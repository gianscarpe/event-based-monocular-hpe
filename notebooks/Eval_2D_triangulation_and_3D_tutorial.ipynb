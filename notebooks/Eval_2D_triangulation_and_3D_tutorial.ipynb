{
 "cells": [
  {
   "cell_type": "markdown",
   "metadata": {},
   "source": [
    "# Example triangulation and 2D/3D evaluation"
   ]
  },
  {
   "cell_type": "markdown",
   "metadata": {},
   "source": [
    "This notebook serves as an example to demonstrate: (1) single-sample evaluation of CNN 2D predictions, and (2) how to triangulate from 2 cameras to 3D space for 3D evaluation. It requires the generated .h5 files (accumulated frames and labels) from this repository."
   ]
  },
  {
   "cell_type": "code",
   "execution_count": null,
   "metadata": {
    "collapsed": false,
    "jupyter": {
     "outputs_hidden": false
    },
    "pycharm": {
     "is_executing": false
    }
   },
   "outputs": [],
   "source": [
    "import keras"
   ]
  },
  {
   "cell_type": "code",
   "execution_count": 2,
   "metadata": {
    "collapsed": false,
    "jupyter": {
     "outputs_hidden": false
    }
   },
   "outputs": [],
   "source": [
    "import os\n",
    "from os.path import join\n",
    "import h5py\n",
    "import numpy as np\n",
    "import cv2\n",
    "import matplotlib.pyplot as plt\n",
    "from mpl_toolkits.mplot3d import Axes3D\n",
    "#from keras.models import load_model\n",
    "#from keras import backend as K  "
   ]
  },
  {
   "cell_type": "code",
   "execution_count": 3,
   "metadata": {
    "collapsed": false,
    "jupyter": {
     "outputs_hidden": false
    },
    "pycharm": {
     "is_executing": false,
     "name": "#%%\n"
    }
   },
   "outputs": [
    {
     "name": "stdout",
     "output_type": "stream",
     "text": [
      "Using matplotlib backend: Qt5Agg\n"
     ]
    }
   ],
   "source": [
    "%matplotlib auto"
   ]
  },
  {
   "cell_type": "markdown",
   "metadata": {},
   "source": [
    "### Change directories and parameters in the next cell"
   ]
  },
  {
   "cell_type": "code",
   "execution_count": 15,
   "metadata": {
    "collapsed": false,
    "jupyter": {
     "outputs_hidden": false
    },
    "pycharm": {
     "is_executing": false
    }
   },
   "outputs": [],
   "source": [
    "# home directory of the repository\n",
    "homedir = '/data/dhp19'\n",
    "# Folder where .h5 files are generated, 346x260/\n",
    "datadir = os.path.join(homedir, 'raw_labels')\n",
    "modeldir='/home/rslsync/Resilio Sync/DHP19/'\n",
    "# Selected recording\n",
    "subj, sess, mov = 16, 2, 1\n",
    "# Which image of the selected recording to use\n",
    "imgidx = 24"
   ]
  },
  {
   "cell_type": "code",
   "execution_count": 16,
   "metadata": {
    "collapsed": false,
    "jupyter": {
     "outputs_hidden": false
    },
    "pycharm": {
     "is_executing": false
    }
   },
   "outputs": [],
   "source": [
    "P_mat_dir = join(homedir, 'P_matrices/')\n",
    "\n",
    "# constant parameters\n",
    "H = 260; W = 344; num_joints = 13"
   ]
  },
  {
   "cell_type": "code",
   "execution_count": 7,
   "metadata": {
    "collapsed": false,
    "jupyter": {
     "outputs_hidden": false
    },
    "pycharm": {
     "is_executing": false
    }
   },
   "outputs": [],
   "source": [
    "def decay_heatmap(heatmap, sigma2=4):\n",
    "    heatmap = cv2.GaussianBlur(heatmap,(0,0),sigma2)\n",
    "    heatmap /= np.max(heatmap) # keep the max to 1\n",
    "    return heatmap\n",
    "\n",
    "def mse2D(y_true, y_pred):\n",
    "    mean_over_ch = K.mean(K.square(y_pred - y_true), axis=-1)\n",
    "    mean_over_w = K.mean(mean_over_ch, axis=-1)\n",
    "    mean_over_h = K.mean(mean_over_w, axis=-1)\n",
    "    return mean_over_h\n",
    "\n",
    "def get_2Dcoords_and_heatmaps_label(vicon_xyz, ch_idx):\n",
    "    \" From 3D label, get 2D label coordinates and heatmaps for selected camera \"\n",
    "    if ch_idx==1: P_mat_cam = np.load(join(P_mat_dir,'P1.npy'))\n",
    "    elif ch_idx==3: P_mat_cam = np.load(join(P_mat_dir,'P2.npy'))\n",
    "    elif ch_idx==2: P_mat_cam = np.load(join(P_mat_dir,'P3.npy'))\n",
    "    elif ch_idx==0: P_mat_cam = np.load(join(P_mat_dir,'P4.npy'))\n",
    "\n",
    "    # use homogeneous coordinates representation to project 3d XYZ coordinates to 2d UV pixel coordinates.\n",
    "    vicon_xyz_homog = np.concatenate([vicon_xyz, np.ones([1,13])], axis=0)\n",
    "    coord_pix_homog = np.matmul(P_mat_cam, vicon_xyz_homog)\n",
    "    coord_pix_homog_norm = coord_pix_homog / coord_pix_homog[-1]\n",
    "    u = coord_pix_homog_norm[0]\n",
    "    v = H - coord_pix_homog_norm[1] # flip v coordinate to match the image direction\n",
    "\n",
    "    # mask is used to make sure that pixel positions are in frame range.\n",
    "    mask = np.ones(u.shape).astype(np.float32)\n",
    "    mask[np.isnan(u)] = 0; mask[np.isnan(v)] = 0\n",
    "    mask[u>W] = 0; mask[u<=0] = 0; mask[v>H] = 0; mask[v<=0] = 0\n",
    "\n",
    "    # pixel coordinates\n",
    "    u = u.astype(np.int32)\n",
    "    v = v.astype(np.int32)\n",
    "    \n",
    "    # initialize, fill and smooth the heatmaps\n",
    "    label_heatmaps = np.zeros((H, W, num_joints))\n",
    "    for fmidx, zipd in enumerate(zip(v, u, mask)):\n",
    "        if zipd[2]==1: # write joint position only when projection within frame boundaries\n",
    "            label_heatmaps[zipd[0], zipd[1], fmidx] = 1\n",
    "            label_heatmaps[:,:,fmidx] = decay_heatmap(label_heatmaps[:,:,fmidx])\n",
    "    \n",
    "    return np.stack((v,u), axis=-1), mask, label_heatmaps\n",
    "\n",
    "def predict_CNN_extract_skeleton_2d(ch_idx, imgidx, verbose=False):\n",
    "    \"\"\" Predict with CNN, extract predicted 2D coordinates, \n",
    "    and return image, 2D label and 2D prediction for imgidx sample \"\"\"\n",
    "    # Cropping rightmost pixels\n",
    "    x_selected = x_h5['DVS'][imgidx:imgidx+1,:,:344, ch_idx]\n",
    "    pred = trained_model.predict(np.expand_dims(x_selected, axis=-1))\n",
    "    plt.figure()\n",
    "    plt.imshow(np.squeeze(x_selected))\n",
    "    plt.show()\n",
    "    plt.savefig('test.jpg')\n",
    "    \n",
    "    y_2d, gt_mask, y_heatmaps = get_2Dcoords_and_heatmaps_label(y_h5['XYZ'][imgidx], ch_idx)\n",
    "    p_coords_max = np.zeros(y_2d.shape)\n",
    "    confidence = np.zeros(y_2d.shape[0]) # confidence is not used in this example.\n",
    "    \n",
    "    for j_idx in range(y_2d.shape[0]):\n",
    "        pred_j_map = pred[0,:,:,j_idx]\n",
    "        # Predicted max value for each heatmap. Keep only the first one if more are present.\n",
    "        p_coords_max_tmp = np.argwhere(pred_j_map == np.max(pred_j_map))\n",
    "        p_coords_max[j_idx] = p_coords_max_tmp[0]\n",
    "        # Confidence of the joint\n",
    "        confidence[j_idx] = np.max(pred_j_map)\n",
    "        if verbose:\n",
    "            print('j{} GT: {} -- PRED: {} (mask: {})'.format(j_idx, y_2d[j_idx], p_coords_max[j_idx], gt_mask[j_idx]))\n",
    "    y_2d_float = y_2d.astype(np.float)\n",
    "    # where mask is 0, set gt back to NaN\n",
    "    y_2d_float[gt_mask==0] = np.nan\n",
    "    dist_2d = np.linalg.norm((y_2d_float - p_coords_max), axis=-1)\n",
    "    mpjpe = np.nanmean(dist_2d)\n",
    "    print('sample mpjpe: {}'.format(mpjpe))\n",
    "    return x_selected[0], y_2d_float, p_coords_max\n",
    "\n",
    "def plot_2d(dvs_frame, sample_gt, sample_pred):\n",
    "    \" To plot image and 2D ground truth and prediction \"\n",
    "    plt.figure()\n",
    "    plt.imshow(dvs_frame, cmap='gray')\n",
    "    plt.plot(sample_gt[:,1], sample_gt[:,0], '.', c='red', label='gt')\n",
    "    plt.plot(sample_pred[:,1], sample_pred[:,0], '.', c='blue', label='pred')\n",
    "    plt.legend()\n",
    "    plt.savefig('x.png')\n",
    "\n",
    "\n",
    "# For 3D triangulation and plot:\n",
    "\n",
    "def project_uv_xyz_cam(uv, M):\n",
    "    # adapted from: https://www.cc.gatech.edu/~hays/compvision/proj3/\n",
    "    N = len(uv)\n",
    "    uv_homog = np.hstack((uv, np.ones((N, 1))))\n",
    "    M_inv= np.linalg.pinv(M)\n",
    "    xyz = np.dot(M_inv, uv_homog.T).T\n",
    "    x = xyz[:, 0] / xyz[:, 3]; y = xyz[:, 1] / xyz[:, 3]; z = xyz[:, 2] / xyz[:, 3]\n",
    "    return x,y,z\n",
    "\n",
    "def find_intersection(P0,P1):\n",
    "    # from: https://stackoverflow.com/questions/52088966/nearest-intersection-point-to-many-lines-in-python/52089867\n",
    "    \"\"\"P0 and P1 are NxD arrays defining N lines.\n",
    "    D is the dimension of the space. This function \n",
    "    returns the least squares intersection of the N\n",
    "    lines from the system given by eq. 13 in \n",
    "    http://cal.cs.illinois.edu/~johannes/research/LS_line_intersect.pdf.\"\"\"\n",
    "\n",
    "    # generate all line direction vectors \n",
    "    n = (P1-P0) / np.linalg.norm(P1-P0,axis=1)[:,np.newaxis] # normalized\n",
    "    # generate the array of all projectors \n",
    "    projs = np.eye(n.shape[1]) - n[:,:,np.newaxis]*n[:,np.newaxis]  # I - n*n.T\n",
    "    # see fig. 1 \n",
    "\n",
    "    # generate R matrix and q vector\n",
    "    R = projs.sum(axis=0)\n",
    "    q = (np.matmul(projs,P0[:,:,np.newaxis])).sum(axis=0)\n",
    "    # solve the least squares problem for the \n",
    "    # intersection point p: Rp = q\n",
    "    p = np.linalg.lstsq(R,q, rcond=None)[0]\n",
    "    return p.T\n",
    "\n",
    "def skeleton(x,y,z):\n",
    "    \" Definition of skeleton edges \"\n",
    "    # rename joints to identify name and axis\n",
    "    x_head, x_shoulderR, x_shoulderL, x_elbowR, x_elbowL, x_hipR, x_hipL, \\\n",
    "    x_handR, x_handL, x_kneeR, x_kneeL, x_footR, x_footL = x[0], x[1], x[2], x[3], \\\n",
    "    x[4], x[5], x[6], x[7], x[8], x[9], x[10], x[11], x[12]\n",
    "    y_head, y_shoulderR, y_shoulderL, y_elbowR, y_elbowL, y_hipR, y_hipL, \\\n",
    "    y_handR, y_handL, y_kneeR, y_kneeL, y_footR, y_footL = y[0], y[1], y[2], y[3], \\\n",
    "    y[4], y[5], y[6], y[7], y[8], y[9], y[10], y[11], y[12]\n",
    "    z_head, z_shoulderR, z_shoulderL, z_elbowR, z_elbowL, z_hipR, z_hipL, \\\n",
    "    z_handR, z_handL, z_kneeR, z_kneeL, z_footR, z_footL = z[0], z[1], z[2], z[3],\\\n",
    "    z[4], z[5], z[6], z[7], z[8], z[9], z[10], z[11], z[12]\n",
    "    #definition of the lines of the skeleton graph\n",
    "    skeleton=np.zeros((14,3,2))\n",
    "    skeleton[0,:,:]=[[x_head,x_shoulderR],[y_head,y_shoulderR],[z_head,z_shoulderR]]\n",
    "    skeleton[1,:,:]=[[x_head,x_shoulderL],[y_head,y_shoulderL],[z_head,z_shoulderL]]\n",
    "    skeleton[2,:,:]=[[x_elbowR,x_shoulderR],[y_elbowR,y_shoulderR],[z_elbowR,z_shoulderR]]\n",
    "    skeleton[3,:,:]=[[x_elbowL,x_shoulderL],[y_elbowL,y_shoulderL],[z_elbowL,z_shoulderL]]\n",
    "    skeleton[4,:,:]=[[x_elbowR,x_handR],[y_elbowR,y_handR],[z_elbowR,z_handR]]\n",
    "    skeleton[5,:,:]=[[x_elbowL,x_handL],[y_elbowL,y_handL],[z_elbowL,z_handL]]\n",
    "    skeleton[6,:,:]=[[x_hipR,x_shoulderR],[y_hipR,y_shoulderR],[z_hipR,z_shoulderR]]\n",
    "    skeleton[7,:,:]=[[x_hipL,x_shoulderL],[y_hipL,y_shoulderL],[z_hipL,z_shoulderL]]\n",
    "    skeleton[8,:,:]=[[x_hipR,x_kneeR],[y_hipR,y_kneeR],[z_hipR,z_kneeR]]\n",
    "    skeleton[9,:,:]=[[x_hipL,x_kneeL],[y_hipL,y_kneeL],[z_hipL,z_kneeL]]\n",
    "    skeleton[10,:,:]=[[x_footR,x_kneeR],[y_footR,y_kneeR],[z_footR,z_kneeR]]\n",
    "    skeleton[11,:,:]=[[x_footL,x_kneeL],[y_footL,y_kneeL],[z_footL,z_kneeL]]\n",
    "    skeleton[12,:,:]=[[x_shoulderR,x_shoulderL],[y_shoulderR,y_shoulderL],[z_shoulderR,z_shoulderL]]\n",
    "    skeleton[13,:,:]=[[x_hipR,x_hipL],[y_hipR,y_hipL],[z_hipR,z_hipL]]\n",
    "    return skeleton\n",
    "\n",
    "def plotSingle3Dframe(ax, y_true_pred, c='red', limits=[[-500,500],[-500,500],[0,1500]], plot_lines=True):\n",
    "    \" 3D plot of single frame. Can be both label or prediction \"\n",
    "    x = y_true_pred[:, 0]; y = y_true_pred[:, 1]; z = y_true_pred[:, 2]\n",
    "    ax.scatter(x, y, z, zdir='z', s=20, c=c, marker='o', depthshade=True)\n",
    "    #plot skeleton\n",
    "    lines_skeleton=skeleton(x,y,z)\n",
    "    if plot_lines:\n",
    "        for l in range(len(lines_skeleton)):\n",
    "            ax.plot(lines_skeleton[l,0,:],lines_skeleton[l,1,:],lines_skeleton[l,2,:], c)\n",
    "  \n",
    "    ax.set_xlabel('X Label'); ax.set_ylabel('Y Label'); ax.set_zlabel('Z Label'); \n",
    "    #ax.set_aspect('equal')\n",
    "    #set same scale for all the axis\n",
    "    x_limits=limits[0]; y_limits=limits[1]; z_limits=limits[2]\n",
    "    x_range = np.abs(x_limits[1] - x_limits[0]); x_middle = np.mean(x_limits)\n",
    "    y_range = np.abs(y_limits[1] - y_limits[0]); y_middle = np.mean(y_limits)\n",
    "    z_range = np.abs(z_limits[1] - z_limits[0]); z_middle = np.mean(z_limits)\n",
    "    # The plot bounding box is a sphere in the sense of the infinity\n",
    "    # norm, hence I call half the max range the plot radius.\n",
    "    plot_radius = 0.5*np.max([x_range, y_range, z_range])\n",
    "    ax.set_xlim3d([x_middle - plot_radius, x_middle + plot_radius])\n",
    "    ax.set_ylim3d([y_middle - plot_radius, y_middle + plot_radius])\n",
    "    ax.set_zlim3d([z_middle - plot_radius, z_middle + plot_radius])"
   ]
  },
  {
   "cell_type": "markdown",
   "metadata": {},
   "source": [
    "### Load camera matrices, camera centers, input and label files, and import CNN model"
   ]
  },
  {
   "cell_type": "code",
   "execution_count": 8,
   "metadata": {
    "collapsed": false,
    "jupyter": {
     "outputs_hidden": false
    },
    "pycharm": {
     "is_executing": false,
     "name": "#%%\n"
    }
   },
   "outputs": [
    {
     "name": "stdout",
     "output_type": "stream",
     "text": [
      "\u001b[0m\u001b[01;34mconfs\u001b[0m/          generate_joints.py   hypersearch.py  \u001b[01;34mnotebooks\u001b[0m/    train.py~\n",
      "evaluate.py     generate_joints.py~  __init__.py     \u001b[01;34m__pycache__\u001b[0m/\n",
      "\u001b[01;34mexperimenting\u001b[0m/  generate.py          \u001b[01;34mNone\u001b[0m/           train.py\n"
     ]
    }
   ],
   "source": [
    "%ls .."
   ]
  },
  {
   "cell_type": "code",
   "execution_count": 17,
   "metadata": {
    "collapsed": false,
    "jupyter": {
     "outputs_hidden": false
    },
    "pycharm": {
     "is_executing": false
    }
   },
   "outputs": [
    {
     "ename": "OSError",
     "evalue": "Unable to open file (unable to open file: name = '/data/dhp19/raw_labels/S16_session2_mov1_7500events.h5', errno = 2, error message = 'No such file or directory', flags = 0, o_flags = 0)",
     "output_type": "error",
     "traceback": [
      "\u001b[0;31m---------------------------------------------------------------------------\u001b[0m",
      "\u001b[0;31mOSError\u001b[0m                                   Traceback (most recent call last)",
      "\u001b[0;32m<ipython-input-17-1faadbf7ccae>\u001b[0m in \u001b[0;36m<module>\u001b[0;34m\u001b[0m\n\u001b[1;32m     10\u001b[0m \u001b[0mpath_x\u001b[0m \u001b[0;34m=\u001b[0m \u001b[0mjoin\u001b[0m\u001b[0;34m(\u001b[0m\u001b[0mdatadir\u001b[0m\u001b[0;34m,\u001b[0m\u001b[0mdatafile\u001b[0m\u001b[0;34m+\u001b[0m\u001b[0;34m'.h5'\u001b[0m\u001b[0;34m)\u001b[0m\u001b[0;34m\u001b[0m\u001b[0;34m\u001b[0m\u001b[0m\n\u001b[1;32m     11\u001b[0m \u001b[0mpath_y\u001b[0m \u001b[0;34m=\u001b[0m \u001b[0mjoin\u001b[0m\u001b[0;34m(\u001b[0m\u001b[0mdatadir\u001b[0m\u001b[0;34m,\u001b[0m\u001b[0mdatafile\u001b[0m\u001b[0;34m+\u001b[0m\u001b[0;34m'_label.h5'\u001b[0m\u001b[0;34m)\u001b[0m\u001b[0;34m\u001b[0m\u001b[0;34m\u001b[0m\u001b[0m\n\u001b[0;32m---> 12\u001b[0;31m \u001b[0mx_h5\u001b[0m \u001b[0;34m=\u001b[0m \u001b[0mh5py\u001b[0m\u001b[0;34m.\u001b[0m\u001b[0mFile\u001b[0m\u001b[0;34m(\u001b[0m\u001b[0mpath_x\u001b[0m\u001b[0;34m,\u001b[0m \u001b[0;34m'r'\u001b[0m\u001b[0;34m)\u001b[0m\u001b[0;34m\u001b[0m\u001b[0;34m\u001b[0m\u001b[0m\n\u001b[0m\u001b[1;32m     13\u001b[0m \u001b[0my_h5\u001b[0m \u001b[0;34m=\u001b[0m \u001b[0mh5py\u001b[0m\u001b[0;34m.\u001b[0m\u001b[0mFile\u001b[0m\u001b[0;34m(\u001b[0m\u001b[0mpath_y\u001b[0m\u001b[0;34m,\u001b[0m \u001b[0;34m'r'\u001b[0m\u001b[0;34m)\u001b[0m\u001b[0;34m\u001b[0m\u001b[0;34m\u001b[0m\u001b[0m\n\u001b[1;32m     14\u001b[0m \u001b[0;34m\u001b[0m\u001b[0m\n",
      "\u001b[0;32m~/anaconda3/envs/event-camera/lib/python3.7/site-packages/h5py/_hl/files.py\u001b[0m in \u001b[0;36m__init__\u001b[0;34m(self, name, mode, driver, libver, userblock_size, swmr, **kwds)\u001b[0m\n\u001b[1;32m    310\u001b[0m             \u001b[0;32mwith\u001b[0m \u001b[0mphil\u001b[0m\u001b[0;34m:\u001b[0m\u001b[0;34m\u001b[0m\u001b[0;34m\u001b[0m\u001b[0m\n\u001b[1;32m    311\u001b[0m                 \u001b[0mfapl\u001b[0m \u001b[0;34m=\u001b[0m \u001b[0mmake_fapl\u001b[0m\u001b[0;34m(\u001b[0m\u001b[0mdriver\u001b[0m\u001b[0;34m,\u001b[0m \u001b[0mlibver\u001b[0m\u001b[0;34m,\u001b[0m \u001b[0;34m**\u001b[0m\u001b[0mkwds\u001b[0m\u001b[0;34m)\u001b[0m\u001b[0;34m\u001b[0m\u001b[0;34m\u001b[0m\u001b[0m\n\u001b[0;32m--> 312\u001b[0;31m                 \u001b[0mfid\u001b[0m \u001b[0;34m=\u001b[0m \u001b[0mmake_fid\u001b[0m\u001b[0;34m(\u001b[0m\u001b[0mname\u001b[0m\u001b[0;34m,\u001b[0m \u001b[0mmode\u001b[0m\u001b[0;34m,\u001b[0m \u001b[0muserblock_size\u001b[0m\u001b[0;34m,\u001b[0m \u001b[0mfapl\u001b[0m\u001b[0;34m,\u001b[0m \u001b[0mswmr\u001b[0m\u001b[0;34m=\u001b[0m\u001b[0mswmr\u001b[0m\u001b[0;34m)\u001b[0m\u001b[0;34m\u001b[0m\u001b[0;34m\u001b[0m\u001b[0m\n\u001b[0m\u001b[1;32m    313\u001b[0m \u001b[0;34m\u001b[0m\u001b[0m\n\u001b[1;32m    314\u001b[0m                 \u001b[0;32mif\u001b[0m \u001b[0mswmr_support\u001b[0m\u001b[0;34m:\u001b[0m\u001b[0;34m\u001b[0m\u001b[0;34m\u001b[0m\u001b[0m\n",
      "\u001b[0;32m~/anaconda3/envs/event-camera/lib/python3.7/site-packages/h5py/_hl/files.py\u001b[0m in \u001b[0;36mmake_fid\u001b[0;34m(name, mode, userblock_size, fapl, fcpl, swmr)\u001b[0m\n\u001b[1;32m    140\u001b[0m         \u001b[0;32mif\u001b[0m \u001b[0mswmr\u001b[0m \u001b[0;32mand\u001b[0m \u001b[0mswmr_support\u001b[0m\u001b[0;34m:\u001b[0m\u001b[0;34m\u001b[0m\u001b[0;34m\u001b[0m\u001b[0m\n\u001b[1;32m    141\u001b[0m             \u001b[0mflags\u001b[0m \u001b[0;34m|=\u001b[0m \u001b[0mh5f\u001b[0m\u001b[0;34m.\u001b[0m\u001b[0mACC_SWMR_READ\u001b[0m\u001b[0;34m\u001b[0m\u001b[0;34m\u001b[0m\u001b[0m\n\u001b[0;32m--> 142\u001b[0;31m         \u001b[0mfid\u001b[0m \u001b[0;34m=\u001b[0m \u001b[0mh5f\u001b[0m\u001b[0;34m.\u001b[0m\u001b[0mopen\u001b[0m\u001b[0;34m(\u001b[0m\u001b[0mname\u001b[0m\u001b[0;34m,\u001b[0m \u001b[0mflags\u001b[0m\u001b[0;34m,\u001b[0m \u001b[0mfapl\u001b[0m\u001b[0;34m=\u001b[0m\u001b[0mfapl\u001b[0m\u001b[0;34m)\u001b[0m\u001b[0;34m\u001b[0m\u001b[0;34m\u001b[0m\u001b[0m\n\u001b[0m\u001b[1;32m    143\u001b[0m     \u001b[0;32melif\u001b[0m \u001b[0mmode\u001b[0m \u001b[0;34m==\u001b[0m \u001b[0;34m'r+'\u001b[0m\u001b[0;34m:\u001b[0m\u001b[0;34m\u001b[0m\u001b[0;34m\u001b[0m\u001b[0m\n\u001b[1;32m    144\u001b[0m         \u001b[0mfid\u001b[0m \u001b[0;34m=\u001b[0m \u001b[0mh5f\u001b[0m\u001b[0;34m.\u001b[0m\u001b[0mopen\u001b[0m\u001b[0;34m(\u001b[0m\u001b[0mname\u001b[0m\u001b[0;34m,\u001b[0m \u001b[0mh5f\u001b[0m\u001b[0;34m.\u001b[0m\u001b[0mACC_RDWR\u001b[0m\u001b[0;34m,\u001b[0m \u001b[0mfapl\u001b[0m\u001b[0;34m=\u001b[0m\u001b[0mfapl\u001b[0m\u001b[0;34m)\u001b[0m\u001b[0;34m\u001b[0m\u001b[0;34m\u001b[0m\u001b[0m\n",
      "\u001b[0;32mh5py/_objects.pyx\u001b[0m in \u001b[0;36mh5py._objects.with_phil.wrapper\u001b[0;34m()\u001b[0m\n",
      "\u001b[0;32mh5py/_objects.pyx\u001b[0m in \u001b[0;36mh5py._objects.with_phil.wrapper\u001b[0;34m()\u001b[0m\n",
      "\u001b[0;32mh5py/h5f.pyx\u001b[0m in \u001b[0;36mh5py.h5f.open\u001b[0;34m()\u001b[0m\n",
      "\u001b[0;31mOSError\u001b[0m: Unable to open file (unable to open file: name = '/data/dhp19/raw_labels/S16_session2_mov1_7500events.h5', errno = 2, error message = 'No such file or directory', flags = 0, o_flags = 0)"
     ]
    }
   ],
   "source": [
    "P_mat_cam1 = np.load(join(P_mat_dir,'P1.npy'))\n",
    "P_mat_cam2 = np.load(join(P_mat_dir,'P2.npy'))\n",
    "P_mat_cam3 = np.load(join(P_mat_dir,'P3.npy'))\n",
    "P_mat_cam4 = np.load(join(P_mat_dir,'P4.npy'))\n",
    "P_mats = [P_mat_cam1, P_mat_cam2, P_mat_cam3, P_mat_cam4]\n",
    "cameras_pos = np.load(join(P_mat_dir,'camera_positions.npy'))\n",
    "\n",
    "# Load input and 3D label .h5 files\n",
    "datafile = 'S{}_session{}_mov{}_7500events'.format(subj, sess, mov)\n",
    "path_x = join(datadir,datafile+'.h5')\n",
    "path_y = join(datadir,datafile+'_label.h5')\n",
    "x_h5 = h5py.File(path_x, 'r') \n",
    "y_h5 = h5py.File(path_y, 'r')\n",
    "\n",
    "# Import model"
   ]
  },
  {
   "cell_type": "code",
   "execution_count": 16,
   "metadata": {
    "collapsed": false,
    "jupyter": {
     "outputs_hidden": false
    }
   },
   "outputs": [],
   "source": [
    "trained_model=load_model(join(modeldir,'DHP_CNN.model'), custom_objects={'mse2D': mse2D})"
   ]
  },
  {
   "cell_type": "code",
   "execution_count": 17,
   "metadata": {
    "collapsed": false,
    "jupyter": {
     "outputs_hidden": false
    }
   },
   "outputs": [
    {
     "name": "stdout",
     "output_type": "stream",
     "text": [
      "Model: \"model_1\"\n",
      "_________________________________________________________________\n",
      "Layer (type)                 Output Shape              Param #   \n",
      "=================================================================\n",
      "input_1 (InputLayer)         (None, 260, 344, 1)       0         \n",
      "_________________________________________________________________\n",
      "conv1 (Conv2D)               (None, 260, 344, 16)      144       \n",
      "_________________________________________________________________\n",
      "activation_1 (Activation)    (None, 260, 344, 16)      0         \n",
      "_________________________________________________________________\n",
      "pool1 (MaxPooling2D)         (None, 130, 172, 16)      0         \n",
      "_________________________________________________________________\n",
      "conv2a (Conv2D)              (None, 130, 172, 32)      4608      \n",
      "_________________________________________________________________\n",
      "activation_2 (Activation)    (None, 130, 172, 32)      0         \n",
      "_________________________________________________________________\n",
      "conv2b (Conv2D)              (None, 130, 172, 32)      9216      \n",
      "_________________________________________________________________\n",
      "activation_3 (Activation)    (None, 130, 172, 32)      0         \n",
      "_________________________________________________________________\n",
      "conv2d (Conv2D)              (None, 130, 172, 32)      9216      \n",
      "_________________________________________________________________\n",
      "activation_4 (Activation)    (None, 130, 172, 32)      0         \n",
      "_________________________________________________________________\n",
      "pool2 (MaxPooling2D)         (None, 65, 86, 32)        0         \n",
      "_________________________________________________________________\n",
      "conv3a (Conv2D)              (None, 65, 86, 64)        18432     \n",
      "_________________________________________________________________\n",
      "activation_5 (Activation)    (None, 65, 86, 64)        0         \n",
      "_________________________________________________________________\n",
      "conv3b (Conv2D)              (None, 65, 86, 64)        36864     \n",
      "_________________________________________________________________\n",
      "activation_6 (Activation)    (None, 65, 86, 64)        0         \n",
      "_________________________________________________________________\n",
      "conv3c (Conv2D)              (None, 65, 86, 64)        36864     \n",
      "_________________________________________________________________\n",
      "activation_7 (Activation)    (None, 65, 86, 64)        0         \n",
      "_________________________________________________________________\n",
      "conv3d (Conv2D)              (None, 65, 86, 64)        36864     \n",
      "_________________________________________________________________\n",
      "activation_8 (Activation)    (None, 65, 86, 64)        0         \n",
      "_________________________________________________________________\n",
      "conv3_up (Conv2DTranspose)   (None, 130, 172, 32)      18432     \n",
      "_________________________________________________________________\n",
      "activation_9 (Activation)    (None, 130, 172, 32)      0         \n",
      "_________________________________________________________________\n",
      "conv4a (Conv2D)              (None, 130, 172, 32)      9216      \n",
      "_________________________________________________________________\n",
      "activation_10 (Activation)   (None, 130, 172, 32)      0         \n",
      "_________________________________________________________________\n",
      "conv4b (Conv2D)              (None, 130, 172, 32)      9216      \n",
      "_________________________________________________________________\n",
      "activation_11 (Activation)   (None, 130, 172, 32)      0         \n",
      "_________________________________________________________________\n",
      "conv4c (Conv2D)              (None, 130, 172, 32)      9216      \n",
      "_________________________________________________________________\n",
      "activation_12 (Activation)   (None, 130, 172, 32)      0         \n",
      "_________________________________________________________________\n",
      "conv4d (Conv2D)              (None, 130, 172, 32)      9216      \n",
      "_________________________________________________________________\n",
      "activation_13 (Activation)   (None, 130, 172, 32)      0         \n",
      "_________________________________________________________________\n",
      "conv4_up (Conv2DTranspose)   (None, 260, 344, 16)      4608      \n",
      "_________________________________________________________________\n",
      "activation_14 (Activation)   (None, 260, 344, 16)      0         \n",
      "_________________________________________________________________\n",
      "conv5a (Conv2D)              (None, 260, 344, 16)      2304      \n",
      "_________________________________________________________________\n",
      "activation_15 (Activation)   (None, 260, 344, 16)      0         \n",
      "_________________________________________________________________\n",
      "conv5d (Conv2D)              (None, 260, 344, 16)      2304      \n",
      "_________________________________________________________________\n",
      "activation_16 (Activation)   (None, 260, 344, 16)      0         \n",
      "_________________________________________________________________\n",
      "pred_cube (Conv2D)           (None, 260, 344, 13)      1872      \n",
      "_________________________________________________________________\n",
      "activation_17 (Activation)   (None, 260, 344, 13)      0         \n",
      "=================================================================\n",
      "Total params: 218,592\n",
      "Trainable params: 218,592\n",
      "Non-trainable params: 0\n",
      "_________________________________________________________________\n"
     ]
    }
   ],
   "source": [
    "trained_model.summary()"
   ]
  },
  {
   "cell_type": "code",
   "execution_count": 21,
   "metadata": {
    "collapsed": false,
    "jupyter": {
     "outputs_hidden": false
    }
   },
   "outputs": [
    {
     "data": {
      "text/plain": [
       "{'name': 'activation_17',\n",
       " 'trainable': True,\n",
       " 'dtype': 'float32',\n",
       " 'activation': 'relu'}"
      ]
     },
     "execution_count": 21,
     "metadata": {},
     "output_type": "execute_result"
    }
   ],
   "source": [
    "trained_model.get_layer('activation_17').get_config()"
   ]
  },
  {
   "cell_type": "markdown",
   "metadata": {},
   "source": [
    "### Calculate 2D prediction, calculate 2D MPJPE, and plot 2D results"
   ]
  },
  {
   "cell_type": "code",
   "execution_count": null,
   "metadata": {
    "collapsed": false,
    "jupyter": {
     "outputs_hidden": false
    }
   },
   "outputs": [],
   "source": []
  },
  {
   "cell_type": "code",
   "execution_count": 15,
   "metadata": {
    "collapsed": false,
    "jupyter": {
     "outputs_hidden": false
    },
    "pycharm": {
     "is_executing": false
    }
   },
   "outputs": [
    {
     "ename": "NameError",
     "evalue": "name 'x_h5' is not defined",
     "output_type": "error",
     "traceback": [
      "\u001b[0;31m\u001b[0m",
      "\u001b[0;31mNameError\u001b[0mTraceback (most recent call last)",
      "\u001b[0;32m<ipython-input-15-f9b621b7f148>\u001b[0m in \u001b[0;36m<module>\u001b[0;34m\u001b[0m\n\u001b[1;32m      1\u001b[0m \u001b[0;31m# gt_2d_cam  : used only to plot in 2D.\u001b[0m\u001b[0;34m\u001b[0m\u001b[0;34m\u001b[0m\u001b[0;34m\u001b[0m\u001b[0m\n\u001b[1;32m      2\u001b[0m \u001b[0;31m# pred_2d_cam: used for 2D and 3D.\u001b[0m\u001b[0;34m\u001b[0m\u001b[0;34m\u001b[0m\u001b[0;34m\u001b[0m\u001b[0m\n\u001b[0;32m----> 3\u001b[0;31m \u001b[0mimg_cam2\u001b[0m\u001b[0;34m,\u001b[0m \u001b[0mgt_2d_cam2\u001b[0m\u001b[0;34m,\u001b[0m \u001b[0mpred_2d_cam2\u001b[0m \u001b[0;34m=\u001b[0m \u001b[0mpredict_CNN_extract_skeleton_2d\u001b[0m\u001b[0;34m(\u001b[0m\u001b[0;36m3\u001b[0m\u001b[0;34m,\u001b[0m \u001b[0mimgidx\u001b[0m\u001b[0;34m,\u001b[0m \u001b[0mverbose\u001b[0m\u001b[0;34m=\u001b[0m\u001b[0;32mTrue\u001b[0m\u001b[0;34m)\u001b[0m\u001b[0;34m\u001b[0m\u001b[0;34m\u001b[0m\u001b[0m\n\u001b[0m\u001b[1;32m      4\u001b[0m \u001b[0mimg_cam3\u001b[0m\u001b[0;34m,\u001b[0m \u001b[0mgt_2d_cam3\u001b[0m\u001b[0;34m,\u001b[0m \u001b[0mpred_2d_cam3\u001b[0m \u001b[0;34m=\u001b[0m \u001b[0mpredict_CNN_extract_skeleton_2d\u001b[0m\u001b[0;34m(\u001b[0m\u001b[0;36m2\u001b[0m\u001b[0;34m,\u001b[0m \u001b[0mimgidx\u001b[0m\u001b[0;34m,\u001b[0m \u001b[0mverbose\u001b[0m\u001b[0;34m=\u001b[0m\u001b[0;32mTrue\u001b[0m\u001b[0;34m)\u001b[0m\u001b[0;34m\u001b[0m\u001b[0;34m\u001b[0m\u001b[0m\n",
      "\u001b[0;32m<ipython-input-9-432434602860>\u001b[0m in \u001b[0;36mpredict_CNN_extract_skeleton_2d\u001b[0;34m(ch_idx, imgidx, verbose)\u001b[0m\n\u001b[1;32m     46\u001b[0m     and return image, 2D label and 2D prediction for imgidx sample \"\"\"\n\u001b[1;32m     47\u001b[0m     \u001b[0;31m# Cropping rightmost pixels\u001b[0m\u001b[0;34m\u001b[0m\u001b[0;34m\u001b[0m\u001b[0;34m\u001b[0m\u001b[0m\n\u001b[0;32m---> 48\u001b[0;31m     \u001b[0mx_selected\u001b[0m \u001b[0;34m=\u001b[0m \u001b[0mx_h5\u001b[0m\u001b[0;34m[\u001b[0m\u001b[0;34m'DVS'\u001b[0m\u001b[0;34m]\u001b[0m\u001b[0;34m[\u001b[0m\u001b[0mimgidx\u001b[0m\u001b[0;34m:\u001b[0m\u001b[0mimgidx\u001b[0m\u001b[0;34m+\u001b[0m\u001b[0;36m1\u001b[0m\u001b[0;34m,\u001b[0m\u001b[0;34m:\u001b[0m\u001b[0;34m,\u001b[0m\u001b[0;34m:\u001b[0m\u001b[0;36m344\u001b[0m\u001b[0;34m,\u001b[0m \u001b[0mch_idx\u001b[0m\u001b[0;34m]\u001b[0m\u001b[0;34m\u001b[0m\u001b[0;34m\u001b[0m\u001b[0m\n\u001b[0m\u001b[1;32m     49\u001b[0m     \u001b[0mpred\u001b[0m \u001b[0;34m=\u001b[0m \u001b[0mtrained_model\u001b[0m\u001b[0;34m.\u001b[0m\u001b[0mpredict\u001b[0m\u001b[0;34m(\u001b[0m\u001b[0mnp\u001b[0m\u001b[0;34m.\u001b[0m\u001b[0mexpand_dims\u001b[0m\u001b[0;34m(\u001b[0m\u001b[0mx_selected\u001b[0m\u001b[0;34m,\u001b[0m \u001b[0maxis\u001b[0m\u001b[0;34m=\u001b[0m\u001b[0;34m-\u001b[0m\u001b[0;36m1\u001b[0m\u001b[0;34m)\u001b[0m\u001b[0;34m)\u001b[0m\u001b[0;34m\u001b[0m\u001b[0;34m\u001b[0m\u001b[0m\n\u001b[1;32m     50\u001b[0m     \u001b[0mplt\u001b[0m\u001b[0;34m.\u001b[0m\u001b[0mfigure\u001b[0m\u001b[0;34m(\u001b[0m\u001b[0;34m)\u001b[0m\u001b[0;34m\u001b[0m\u001b[0;34m\u001b[0m\u001b[0m\n",
      "\u001b[0;31mNameError\u001b[0m: name 'x_h5' is not defined"
     ]
    }
   ],
   "source": [
    "# gt_2d_cam  : used only to plot in 2D.\n",
    "# pred_2d_cam: used for 2D and 3D.\n",
    "img_cam2, gt_2d_cam2, pred_2d_cam2 = predict_CNN_extract_skeleton_2d(3, imgidx, verbose=True)\n",
    "img_cam3, gt_2d_cam3, pred_2d_cam3 = predict_CNN_extract_skeleton_2d(2, imgidx, verbose=True)\n"
   ]
  },
  {
   "cell_type": "code",
   "execution_count": 86,
   "metadata": {
    "collapsed": false,
    "jupyter": {
     "outputs_hidden": false
    },
    "pycharm": {
     "is_executing": false
    }
   },
   "outputs": [
    {
     "data": {
      "image/png": "[encoded data removed]",
      "text/plain": [
       "<Figure size 432x288 with 1 Axes>"
      ]
     },
     "metadata": {
      "needs_background": "light"
     },
     "output_type": "display_data"
    },
    {
     "data": {
      "image/png": "[encoded data removed]",
      "text/plain": [
       "<Figure size 432x288 with 1 Axes>"
      ]
     },
     "metadata": {
      "needs_background": "light"
     },
     "output_type": "display_data"
    }
   ],
   "source": [
    "plot_2d(img_cam2, gt_2d_cam2, pred_2d_cam2)\n",
    "plot_2d(img_cam3, gt_2d_cam3, pred_2d_cam3)"
   ]
  },
  {
   "cell_type": "markdown",
   "metadata": {},
   "source": [
    "## From here: triangulation"
   ]
  },
  {
   "cell_type": "code",
   "execution_count": 72,
   "metadata": {
    "collapsed": false,
    "jupyter": {
     "outputs_hidden": false
    },
    "pycharm": {
     "is_executing": false
    }
   },
   "outputs": [],
   "source": [
    "# centers of the 2 used cameras\n",
    "Point0 = (np.stack((cameras_pos[1],cameras_pos[2])))\n",
    "# 3D label\n",
    "label_3d = y_h5['XYZ'][imgidx].T\n",
    "# initialize empty sample of 3D prediction\n",
    "pred_3d = np.zeros(label_3d.shape)"
   ]
  },
  {
   "cell_type": "markdown",
   "metadata": {},
   "source": [
    "### Adapt the 2D prediction to match the same format of 3D label after back projection"
   ]
  },
  {
   "cell_type": "code",
   "execution_count": 73,
   "metadata": {
    "collapsed": false,
    "jupyter": {
     "outputs_hidden": false
    },
    "pycharm": {
     "is_executing": false
    }
   },
   "outputs": [],
   "source": [
    "pred_2d_cam2_ = np.zeros(pred_2d_cam2.shape)\n",
    "pred_2d_cam3_ = np.zeros(pred_2d_cam3.shape)\n",
    "\n",
    "pred_2d_cam2_[:,0] = pred_2d_cam2[:,1]\n",
    "pred_2d_cam2_[:,1] = H - pred_2d_cam2[:,0]\n",
    "\n",
    "pred_2d_cam3_[:,0] = pred_2d_cam3[:,1]\n",
    "pred_2d_cam3_[:,1] = H - pred_2d_cam3[:,0]"
   ]
  },
  {
   "cell_type": "markdown",
   "metadata": {},
   "source": [
    "### Back project each 2D point to 3D space, and find intersection of rays using least squares"
   ]
  },
  {
   "cell_type": "code",
   "execution_count": 74,
   "metadata": {
    "collapsed": false,
    "jupyter": {
     "outputs_hidden": false
    },
    "pycharm": {
     "is_executing": false
    },
    "scrolled": true
   },
   "outputs": [],
   "source": [
    "x_cam2_pred, y_cam2_pred, z_cam2_pred = project_uv_xyz_cam(pred_2d_cam2_, P_mat_cam2)\n",
    "x_cam3_pred, y_cam3_pred, z_cam3_pred = project_uv_xyz_cam(pred_2d_cam3_, P_mat_cam3)\n",
    "\n",
    "xyz_cam2 = np.stack((x_cam2_pred, y_cam2_pred, z_cam2_pred), axis=1)\n",
    "xyz_cam3 = np.stack((x_cam3_pred, y_cam3_pred, z_cam3_pred), axis=1)\n",
    "\n",
    "for joint_idx in range(13):\n",
    "    # coordinates for both cameras of 2nd point of triangulation line.\n",
    "    Point1 = np.stack((xyz_cam2[joint_idx,:], xyz_cam3[joint_idx,:]), axis=1).T\n",
    "    intersection = find_intersection(Point0, Point1)\n",
    "    pred_3d[joint_idx] = intersection[0]"
   ]
  },
  {
   "cell_type": "markdown",
   "metadata": {},
   "source": [
    "### plot and calculate 3D MPJPE (in mm)"
   ]
  },
  {
   "cell_type": "code",
   "execution_count": 75,
   "metadata": {
    "collapsed": false,
    "jupyter": {
     "outputs_hidden": false
    },
    "pycharm": {
     "is_executing": false
    }
   },
   "outputs": [
    {
     "name": "stdout",
     "output_type": "stream",
     "text": [
      "sample 3D mpjpe [mm]: 66.3753692653538\n"
     ]
    },
    {
     "data": {
      "image/png": "[encoded data removed]",
      "text/plain": [
       "<Figure size 360x360 with 1 Axes>"
      ]
     },
     "metadata": {
      "needs_background": "light"
     },
     "output_type": "display_data"
    }
   ],
   "source": [
    "fs=5\n",
    "fig = plt.figure(figsize=(fs,fs))\n",
    "ax = Axes3D(fig)\n",
    "plotSingle3Dframe(ax, label_3d, c='red') # gt\n",
    "plotSingle3Dframe(ax, pred_3d, c='blue') # pred\n",
    "\n",
    "mpjpe_3d_joints = np.linalg.norm((label_3d - pred_3d), axis=-1)\n",
    "mpjpe_3d_sample = np.mean(mpjpe_3d_joints)\n",
    "print('sample 3D mpjpe [mm]: {}'.format(mpjpe_3d_sample))"
   ]
  }
 ],
 "metadata": {
  "kernelspec": {
   "display_name": "Python 3",
   "language": "python",
   "name": "python3"
  },
  "language_info": {
   "codemirror_mode": {
    "name": "ipython",
    "version": 3
   },
   "file_extension": ".py",
   "mimetype": "text/x-python",
   "name": "python",
   "nbconvert_exporter": "python",
   "pygments_lexer": "ipython3",
   "version": "3.8.5"
  },
  "name": "Eval_2D_triangulation_and_3D_tutorial.ipynb",
  "pycharm": {
   "stem_cell": {
    "cell_type": "raw",
    "metadata": {
     "collapsed": false
    },
    "source": null
   }
  }
 },
 "nbformat": 4,
 "nbformat_minor": 4
}
