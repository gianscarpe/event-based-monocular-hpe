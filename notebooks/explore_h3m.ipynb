{
 "cells": [
  {
   "cell_type": "code",
   "execution_count": 1,
   "id": "distinguished-mortgage",
   "metadata": {},
   "outputs": [],
   "source": [
    "import experimenting\n",
    "import event_library as el\n",
    "import torch\n",
    "from matplotlib import pyplot as plt\n",
    "from experimenting.utils.visualization import plot_skeleton_2d, plot_skeleton_3d\n",
    "from experimenting.utils.skeleton_helpers import Skeleton\n",
    "import numpy as np\n",
    "from experimenting.dataset.factory import Joints3DConstructor"
   ]
  },
  {
   "cell_type": "code",
   "execution_count": 2,
   "id": "labeled-genealogy",
   "metadata": {},
   "outputs": [],
   "source": [
    "hw = el.utils.get_hw_property('dvs')"
   ]
  },
  {
   "cell_type": "code",
   "execution_count": 3,
   "id": "thorough-torture",
   "metadata": {},
   "outputs": [],
   "source": [
    "h3mcore = experimenting.dataset.HumanCore('test', '/data/gscarpellini/dataset/human3.6m/constant_count', '/data/gscarpellini/dataset/human3.6m/constant_count/gt.npz', 'cross-subject', 1, test_cams=[1, 3], test_subjects=[6, 7])"
   ]
  },
  {
   "cell_type": "code",
   "execution_count": 4,
   "id": "daily-guide",
   "metadata": {},
   "outputs": [
    {
     "name": "stdout",
     "output_type": "stream",
     "text": [
      "179376, 44844, 8832\n"
     ]
    }
   ],
   "source": [
    "factory = Joints3DConstructor()\n",
    "factory.set_dataset_core(h3mcore)\n",
    "train, val, test = factory.get_datasets({'apply':{}}, {'apply':{}})\n",
    "print(f\"{len(train)}, {len(val)}, {len(test)}\")"
   ]
  },
  {
   "cell_type": "code",
   "execution_count": null,
   "id": "political-roberts",
   "metadata": {},
   "outputs": [],
   "source": [
    "idx = 10\n",
    "print(h3mcore.frames_info[idx+1])\n",
    "sk, intr, extr = h3mcore.get_joint_from_id(idx)\n",
    "frame = h3mcore.get_frame_from_id(idx)\n",
    "joints = sk.get_2d_points(260, 346, intrinsic_matrix=intr, extrinsic_matrix=extr)\n",
    "plot_skeleton_3d(sk)\n",
    "plot_skeleton_2d(frame.squeeze(), joints)"
   ]
  },
  {
   "cell_type": "code",
   "execution_count": null,
   "id": "excellent-maryland",
   "metadata": {},
   "outputs": [],
   "source": [
    "len(h3mcore.frames_info)"
   ]
  },
  {
   "cell_type": "code",
   "execution_count": null,
   "id": "consecutive-raise",
   "metadata": {},
   "outputs": [],
   "source": [
    "lenghts = []\n",
    "for id in range(len(h3mcore.frames_info)):\n",
    "    lenghts.append(sk.get_skeleton_torso_length())\n",
    "print(sum(lenghts) / len(lenghts))"
   ]
  },
  {
   "cell_type": "code",
   "execution_count": null,
   "id": "refined-louis",
   "metadata": {},
   "outputs": [],
   "source": [
    "idx = 200200\n",
    "print(h3mcore.frames_info[idx+1])\n",
    "sk, intr, extr = h3mcore.get_joint_from_id(idx)\n",
    "frame = h3mcore.get_frame_from_id(idx)\n",
    "joints = sk.get_2d_points(260, 346, intrinsic_matrix=intr, extrinsic_matrix=extr)\n",
    "#plot_skeleton_3d(sk)\n",
    "plot_skeleton_2d(frame.squeeze(), joints)"
   ]
  },
  {
   "cell_type": "code",
   "execution_count": 6,
   "id": "careful-isolation",
   "metadata": {},
   "outputs": [],
   "source": [
    "train, val, test = Joints3DConstructor().get_datasets(dhp19core, {'apply':{}}, {'apply':{}})\n",
    "print(f\"{len(train)}, {len(val)}, {len(test)}\")"
   ]
  },
  {
   "cell_type": "code",
   "execution_count": 7,
   "id": "destroyed-quantum",
   "metadata": {},
   "outputs": [
    {
     "name": "stdout",
     "output_type": "stream",
     "text": [
      "180233, 45059, 7760\n"
     ]
    }
   ],
   "source": [
    "factory = Joints3DConstructor()\n",
    "factory.set_dataset_core(h3mcore)\n",
    "train, val, test = factory.get_datasets({'apply':{}}, {'apply':{}})\n",
    "print(f\"{len(train)}, {len(val)}, {len(test)}\")"
   ]
  },
  {
   "cell_type": "code",
   "execution_count": 9,
   "id": "pacific-builder",
   "metadata": {},
   "outputs": [],
   "source": [
    "factory"
   ]
  },
  {
   "cell_type": "code",
   "execution_count": null,
   "id": "occupied-december",
   "metadata": {},
   "outputs": [],
   "source": [
    "plt.imshow(x)"
   ]
  },
  {
   "cell_type": "code",
   "execution_count": null,
   "id": "pediatric-jacksonville",
   "metadata": {},
   "outputs": [],
   "source": [
    "# DHP19 Core"
   ]
  },
  {
   "cell_type": "code",
   "execution_count": null,
   "id": "orange-theology",
   "metadata": {},
   "outputs": [],
   "source": [
    "dhp19core = experimenting.dataset.DHP19Core(**{\"name\": \"timecount_dhp19\",\n",
    "  \"base_path\": \"/data/gscarpellini/dhp19/time_count_dataset\",\n",
    "  \"data_dir\": \"/data/gscarpellini/dhp19/time_count_dataset/movements_per_frame\",\n",
    "  \"hm_dir\": \"/data/gscarpellini/dhp19/time_count_dataset/labels\",\n",
    "  \"labels_dir\": \"/data/gscarpellini/dhp19/time_count_dataset/labels\",\n",
    "  \"joints_dir\": \"/data/gscarpellini/dhp19/time_count_dataset/labels_full_joints\",\n",
    "\"preload_dir\": None,\n",
    "  \"n_classes\": 33,\n",
    "  \"test_subjects\": [1, 2, 3, 4, 5],\n",
    "  \"movements\": None,\n",
    "  \"cams\": [0,1,2,3],\n",
    "  \"test_cams\": [1, 2],\n",
    "  \"n_channels\": 1,\n",
    "  \"n_joints\": 13,\n",
    "  \"partition\": \"cross-subject\",\n",
    "  \"torso_length\": 453.5242317})\n"
   ]
  },
  {
   "cell_type": "code",
   "execution_count": null,
   "id": "instrumental-rally",
   "metadata": {},
   "outputs": [],
   "source": []
  },
  {
   "cell_type": "code",
   "execution_count": null,
   "id": "unknown-latex",
   "metadata": {},
   "outputs": [],
   "source": [
    "import os\n",
    "import numpy as np\n",
    "files = sorted(os.listdir(\"../scripts/h3m/out/S11/Posing 1.54138969/\"))"
   ]
  },
  {
   "cell_type": "code",
   "execution_count": null,
   "id": "optional-treasure",
   "metadata": {},
   "outputs": [],
   "source": []
  },
  {
   "cell_type": "code",
   "execution_count": null,
   "id": "simplified-result",
   "metadata": {},
   "outputs": [],
   "source": [
    "import matplotlib.pyplot as plt\n",
    "import matplotlib.cm as cm\n",
    "import matplotlib.animation as animation\n",
    "\n",
    "frames = [] # for storing the generated images\n",
    "fig = plt.figure()\n",
    "for i in files:\n",
    "    img = np.load(\"../scripts/h3m/out/S11/Posing 1.54138969/\" + i).astype()\n",
    "    frames.append(img)\n",
    "\n",
    "import imageio; \n",
    "from IPython.display import Video; \n",
    "imageio.mimwrite('test2.mp4', frames, fps=30); \n",
    "Video('test2.mp4', width=480, height=360)"
   ]
  },
  {
   "cell_type": "code",
   "execution_count": null,
   "id": "hawaiian-magazine",
   "metadata": {},
   "outputs": [],
   "source": [
    "frames[10].max()"
   ]
  },
  {
   "cell_type": "code",
   "execution_count": null,
   "id": "placed-peripheral",
   "metadata": {},
   "outputs": [],
   "source": []
  }
 ],
 "metadata": {
  "kernelspec": {
   "display_name": "Python 3",
   "language": "python",
   "name": "python3"
  },
  "language_info": {
   "codemirror_mode": {
    "name": "ipython",
    "version": 3
   },
   "file_extension": ".py",
   "mimetype": "text/x-python",
   "name": "python",
   "nbconvert_exporter": "python",
   "pygments_lexer": "ipython3",
   "version": "3.8.5"
  }
 },
 "nbformat": 4,
 "nbformat_minor": 5
}
